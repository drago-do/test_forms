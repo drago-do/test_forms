{
 "cells": [
  {
   "cell_type": "code",
   "execution_count": 4,
   "metadata": {},
   "outputs": [
    {
     "name": "stdout",
     "output_type": "stream",
     "text": [
      "All email addresses have been converted to lowercase.\n"
     ]
    }
   ],
   "source": [
    "import pymongo\n",
    "\n",
    "# Load environment variables from .env file\n",
    "\n",
    "# Get MongoDB URI from environment variables\n",
    "mongo_uri = \"mongodbUri\"\n",
    "\n",
    "# Connect to MongoDB\n",
    "client = pymongo.MongoClient(mongo_uri)\n",
    "\n",
    "# Specify the database name explicitly\n",
    "db = client[\"Test_Nayeli\"]\n",
    "\n",
    "# Access the User collection\n",
    "user_collection = db[\"users\"]\n",
    "\n",
    "# Update all email fields to be lowercase\n",
    "user_collection.update_many(\n",
    "    {},\n",
    "    [\n",
    "        {\n",
    "            \"$set\": {\n",
    "                \"email\": {\"$toLower\": \"$email\"}\n",
    "            }\n",
    "        }\n",
    "    ]\n",
    ")\n",
    "\n",
    "print(\"All email addresses have been converted to lowercase.\")\n"
   ]
  }
 ],
 "metadata": {
  "kernelspec": {
   "display_name": "Python 3",
   "language": "python",
   "name": "python3"
  },
  "language_info": {
   "codemirror_mode": {
    "name": "ipython",
    "version": 3
   },
   "file_extension": ".py",
   "mimetype": "text/x-python",
   "name": "python",
   "nbconvert_exporter": "python",
   "pygments_lexer": "ipython3",
   "version": "3.10.8"
  }
 },
 "nbformat": 4,
 "nbformat_minor": 2
}
